{
 "cells": [
  {
   "cell_type": "markdown",
   "metadata": {},
   "source": [
    "# Provando en PANDAS\n"
   ]
  },
  {
   "cell_type": "markdown",
   "metadata": {},
   "source": [
    "### importaciones\n"
   ]
  },
  {
   "cell_type": "code",
   "execution_count": 1,
   "metadata": {},
   "outputs": [],
   "source": [
    "import pandas as pd \n",
    "import numpy as np\n",
    "import matplotlib.pyplot as mt"
   ]
  },
  {
   "cell_type": "markdown",
   "metadata": {},
   "source": [
    "### Code"
   ]
  },
  {
   "cell_type": "code",
   "execution_count": 4,
   "metadata": {},
   "outputs": [
    {
     "name": "stdout",
     "output_type": "stream",
     "text": [
      "0    2\n",
      "1    4\n",
      "2    6\n",
      "3    7\n",
      "4    9\n",
      "dtype: int64\n",
      "7\n"
     ]
    }
   ],
   "source": [
    "series = pd.Series([2,4,6,7,9])\n",
    "print(series)\n",
    "print(\"posicion: \"+series[3])"
   ]
  },
  {
   "cell_type": "code",
   "execution_count": 17,
   "metadata": {},
   "outputs": [
    {
     "name": "stdout",
     "output_type": "stream",
     "text": [
      "(5,)\n",
      "filtro\n",
      " 2    6\n",
      "3    7\n",
      "4    9\n",
      "dtype: int64\n",
      "1     3\n",
      "2     4\n",
      "3     5\n",
      "5    23\n",
      "dtype: object\n"
     ]
    }
   ],
   "source": [
    "print(series.shape)\n",
    "print(\"filtro\\n\",series[series >5])\n",
    "vector = pd.Series([None,3,4,5,pd.NaT,23])\n",
    "vector.dropna()\n",
    "print(vector.dropna())"
   ]
  },
  {
   "cell_type": "markdown",
   "metadata": {},
   "source": [
    "### leyendo CSV "
   ]
  },
  {
   "cell_type": "code",
   "execution_count": 19,
   "metadata": {},
   "outputs": [
    {
     "name": "stdout",
     "output_type": "stream",
     "text": [
      "       age           job   marital  education default  balance housing loan  \\\n",
      "0       58    management   married   tertiary      no   2143.0     yes   no   \n",
      "1       44    technician    single  secondary      no     29.0     yes   no   \n",
      "2       33  entrepreneur   married  secondary      no      2.0     yes  yes   \n",
      "3       47   blue-collar   married    unknown      no   1506.0     yes   no   \n",
      "4       33       unknown    single    unknown      no      1.0      no   no   \n",
      "...    ...           ...       ...        ...     ...      ...     ...  ...   \n",
      "45210   51    technician   married   tertiary      no    825.0      no   no   \n",
      "45211   71       retired  divorced    primary      no   1729.0      no   no   \n",
      "45212   72       retired   married  secondary      no   5715.0      no   no   \n",
      "45213   57   blue-collar   married  secondary      no    668.0      no   no   \n",
      "45214   37  entrepreneur   married  secondary      no   2971.0      no   no   \n",
      "\n",
      "         contact  day month  duration  campaign  pdays  previous poutcome    y  \n",
      "0        unknown    5   may     261.0         1   -1.0         0  unknown   no  \n",
      "1        unknown    5   may     151.0         1   -1.0         0  unknown   no  \n",
      "2        unknown    5   may      76.0         1   -1.0         0  unknown   no  \n",
      "3        unknown    5   may      92.0         1   -1.0         0  unknown   no  \n",
      "4        unknown    5   may     198.0         1   -1.0         0  unknown   no  \n",
      "...          ...  ...   ...       ...       ...    ...       ...      ...  ...  \n",
      "45210   cellular   17   nov     977.0         3   -1.0         0  unknown  yes  \n",
      "45211   cellular   17   nov     456.0         2   -1.0         0  unknown  yes  \n",
      "45212   cellular   17   nov    1127.0         5  184.0         3  success  yes  \n",
      "45213  telephone   17   nov     508.0         4   -1.0         0  unknown   no  \n",
      "45214   cellular   17   nov     361.0         2  188.0        11    other   no  \n",
      "\n",
      "[45215 rows x 17 columns]\n"
     ]
    }
   ],
   "source": [
    "data = pd.read_csv(\"dataset_banco.csv\", sep=\",\")\n",
    "print(data)"
   ]
  },
  {
   "cell_type": "markdown",
   "metadata": {},
   "source": [
    "### info en pandas"
   ]
  },
  {
   "cell_type": "code",
   "execution_count": 20,
   "metadata": {},
   "outputs": [
    {
     "name": "stdout",
     "output_type": "stream",
     "text": [
      "<class 'pandas.core.frame.DataFrame'>\n",
      "RangeIndex: 45215 entries, 0 to 45214\n",
      "Data columns (total 17 columns):\n",
      " #   Column     Non-Null Count  Dtype  \n",
      "---  ------     --------------  -----  \n",
      " 0   age        45215 non-null  int64  \n",
      " 1   job        45213 non-null  object \n",
      " 2   marital    45214 non-null  object \n",
      " 3   education  45214 non-null  object \n",
      " 4   default    45215 non-null  object \n",
      " 5   balance    45213 non-null  float64\n",
      " 6   housing    45215 non-null  object \n",
      " 7   loan       45215 non-null  object \n",
      " 8   contact    45215 non-null  object \n",
      " 9   day        45215 non-null  int64  \n",
      " 10  month      45215 non-null  object \n",
      " 11  duration   45214 non-null  float64\n",
      " 12  campaign   45215 non-null  int64  \n",
      " 13  pdays      45214 non-null  float64\n",
      " 14  previous   45215 non-null  int64  \n",
      " 15  poutcome   45215 non-null  object \n",
      " 16  y          45215 non-null  object \n",
      "dtypes: float64(3), int64(4), object(10)\n",
      "memory usage: 5.9+ MB\n",
      "None\n"
     ]
    }
   ],
   "source": [
    "print(data.info())"
   ]
  },
  {
   "cell_type": "markdown",
   "metadata": {},
   "source": [
    "### Describe en Pandas *** ✅ ***"
   ]
  },
  {
   "cell_type": "code",
   "execution_count": null,
   "metadata": {},
   "outputs": [],
   "source": [
    "print(data.describe())"
   ]
  },
  {
   "cell_type": "markdown",
   "metadata": {},
   "source": [
    "### Filtrando **DATOS**"
   ]
  },
  {
   "cell_type": "code",
   "execution_count": null,
   "metadata": {},
   "outputs": [],
   "source": [
    "print(data[data['age'== 776]])\n",
    "print(data[data['age'== ]])\n"
   ]
  },
  {
   "cell_type": "markdown",
   "metadata": {},
   "source": [
    "> Aclarar condicionales, Tail, range, limpieza de datos, filtros, quitando columnas dejando solo columnas que me interesan.  <-"
   ]
  },
  {
   "cell_type": "markdown",
   "metadata": {},
   "source": []
  }
 ],
 "metadata": {
  "kernelspec": {
   "display_name": "Python 3",
   "language": "python",
   "name": "python3"
  },
  "language_info": {
   "codemirror_mode": {
    "name": "ipython",
    "version": 3
   },
   "file_extension": ".py",
   "mimetype": "text/x-python",
   "name": "python",
   "nbconvert_exporter": "python",
   "pygments_lexer": "ipython3",
   "version": "3.11.4"
  },
  "orig_nbformat": 4
 },
 "nbformat": 4,
 "nbformat_minor": 2
}
