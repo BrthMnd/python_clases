{
 "cells": [
  {
   "cell_type": "markdown",
   "metadata": {},
   "source": [
    "# EL M\n",
    "\n",
    "### Importar Las "
   ]
  },
  {
   "cell_type": "code",
   "execution_count": 17,
   "metadata": {},
   "outputs": [],
   "source": [
    "import openpyxl as ox\n",
    "import random as rd\n",
    "import numpy as np\n",
    "\n",
    "data = [\n",
    "    'BRANDON ALBERTO QUINTERO MENDOZA',\n",
    "    'BRAYAN ZAPATA SAMBONI',\n",
    "    'CRISTIAN JAVIER PARDO PARDO',\n",
    "    'DANIEL PEREZ BEDOYA',\n",
    "    'DEISY YULIETH CUESTA BLANDON',\n",
    "    'DUFAINER ANDRES ESQUIVEL BERTEL',\n",
    "    'EXEL AGUALIMPIA RAMIREZ',\n",
    "    'JENI JOHANA BEJARANO MENA',\n",
    "    'JHOAN FERNANDO ALVAREZ PARRA',\n",
    "    'JOBSERD JULIAN OCAMPO ZAPATA',\n",
    "    'JUAN ANDRES PINEDA BETANCUR',\n",
    "    'JUAN CAMILO ZULUAGA ARISTIZABAL',\n",
    "    'JUAN DAVID MARTINEZ CIRO',\n",
    "    'JUAN ESTEBAN MOSQUERA MENA',\n",
    "    'JULIANA PEREZ QUINTERO',\n",
    "    'MATEO HERNANDEZ PIEDRAHITA',\n",
    "    'SANTIAGO GOMEZ ZULETA',\n",
    "    'SANTIAGO SNEYDER HOYOS ARAQUE'\n",
    "]\n"
   ]
  },
  {
   "cell_type": "code",
   "execution_count": 15,
   "metadata": {},
   "outputs": [
    {
     "name": "stdout",
     "output_type": "stream",
     "text": [
      "[41, 35, 37, 38, 40, 36, 41, 40, 35, 41, 35, 41, 44, 38, 36, 41, 39, 42]\n",
      "[41, 35, 37, 38, 40, 36, 41, 40, 35, 41, 35, 41, 44, 38, 36, 41, 39, 42]\n"
     ]
    }
   ],
   "source": [
    "def CreateExcelFile(data):\n",
    "    libro = ox.Workbook()\n",
    "    hoja= libro.active\n",
    "    hoja.title = \"EstadisticasTalladeZapato\"\n",
    "    hoja.append([\"Nombre\", \"Talla De Zapato\"])\n",
    "    for persona in data:\n",
    "        hoja.append([persona,rd.randint(35,44)])\n",
    "    libro.save(\"AlumnoDeLa-2501234.xlsx\")\n",
    "    return \n",
    "\n",
    "def ReadExcelFile():\n",
    "    data = []\n",
    "    libro = ox.load_workbook(\"AlumnoDeLa-2501234.xlsx\")\n",
    "    hoja = libro[\"EstadisticasTalladeZapato\"]\n",
    "    for fila in hoja.iter_rows(min_row=2,values_only=True):\n",
    "        nombre, talla = fila\n",
    "        data.append(talla)\n",
    "    libro.close()\n",
    "    print(data)\n",
    "    return data\n",
    "\n",
    "        \n",
    "\n",
    "# CreateExcelFile(data)\n",
    "data = ReadExcelFile()\n",
    "print(data)\n",
    "\n"
   ]
  },
  {
   "cell_type": "code",
   "execution_count": 16,
   "metadata": {},
   "outputs": [
    {
     "name": "stdout",
     "output_type": "stream",
     "text": [
      " Promedio es de 38.888888888888886, la moda es de 41, mediana es de 39.5, varianza es de 7.098765432098765 y desviacion estandar es de 2.664350846284844\n"
     ]
    }
   ],
   "source": [
    "def CalcularEstadistica(data):\n",
    "    datos = np.array(data)\n",
    "    # datos = data\n",
    "\n",
    "    promedio = np.mean(datos)\n",
    "\n",
    "    # Moda\n",
    "    moda = np.argmax(np.bincount(x=datos))\n",
    "\n",
    "    # Mediana\n",
    "    mediana = np.median(datos)\n",
    "\n",
    "    # Varianza\n",
    "    varianza = np.var(datos, ddof=0)\n",
    "\n",
    "    # Desviación estándar\n",
    "    desviacion_estandar = np.std(datos, ddof=0)  \n",
    "    \n",
    "    print(f\" Promedio es de {promedio}, la moda es de {moda}, mediana es de {mediana}, varianza es de {varianza } y desviacion estandar es de {desviacion_estandar}\")\n",
    "    \n",
    "CalcularEstadistica(data)"
   ]
  }
 ],
 "metadata": {
  "kernelspec": {
   "display_name": "Python 3",
   "language": "python",
   "name": "python3"
  },
  "language_info": {
   "codemirror_mode": {
    "name": "ipython",
    "version": 3
   },
   "file_extension": ".py",
   "mimetype": "text/x-python",
   "name": "python",
   "nbconvert_exporter": "python",
   "pygments_lexer": "ipython3",
   "version": "3.7.2"
  },
  "orig_nbformat": 4
 },
 "nbformat": 4,
 "nbformat_minor": 2
}
