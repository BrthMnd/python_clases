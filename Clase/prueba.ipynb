{
 "cells": [
  {
   "cell_type": "markdown",
   "metadata": {},
   "source": [
    "# Excel Class Python\n",
    ">importamos las dependencias"
   ]
  },
  {
   "cell_type": "code",
   "execution_count": 11,
   "metadata": {},
   "outputs": [
    {
     "name": "stdout",
     "output_type": "stream",
     "text": [
      "Darlene Foster\n"
     ]
    }
   ],
   "source": [
    "import openpyxl as ox\n",
    "from faker import Faker\n",
    "import random as rd\n",
    "\n",
    "\n",
    "fake = Faker()\n",
    "print(fake.name())\n"
   ]
  },
  {
   "cell_type": "markdown",
   "metadata": {},
   "source": [
    "---"
   ]
  },
  {
   "cell_type": "code",
   "execution_count": 12,
   "metadata": {},
   "outputs": [],
   "source": [
    "def CreateExcelFile():\n",
    "    libro = ox.Workbook()\n",
    "    hoja = libro.active\n",
    "    hoja.title = \"datos bb\"\n",
    "    hoja.append([\"Nombre\", \"Edad\", \"Direccion\"])\n",
    "    for persona in range(50):\n",
    "        hoja.append([fake.name(),rd.randint(1,30),fake.address()])\n",
    "    libro.save(\"hola.xlsx\")\n",
    "    return "
   ]
  },
  {
   "cell_type": "code",
   "execution_count": 13,
   "metadata": {},
   "outputs": [
    {
     "name": "stdout",
     "output_type": "stream",
     "text": [
      "[{'nombre': 'Mackenzie Fernandez', 'Edad': 5, 'direccion': '9896 Ramirez Key Suite 380\\nLake Rachel, VT 34980'}, {'nombre': 'Joel Saunders', 'Edad': 15, 'direccion': '73858 Richard Islands\\nPort Ryanview, NJ 72790'}, {'nombre': 'Adam Blair', 'Edad': 11, 'direccion': '802 Moore Hill\\nNicoleberg, NV 49433'}, {'nombre': 'Christine Shaw', 'Edad': 23, 'direccion': '986 Shannon Roads\\nEast Ebonyville, CO 59287'}, {'nombre': 'Kyle Stewart', 'Edad': 11, 'direccion': '35088 Dakota Prairie\\nDonaldside, NM 85201'}, {'nombre': 'Jody White', 'Edad': 8, 'direccion': '7713 Susan Valleys Apt. 906\\nPort Jonathon, NM 65052'}, {'nombre': 'Timothy White', 'Edad': 7, 'direccion': '57629 Rogers Track\\nCharlesshire, IL 50196'}, {'nombre': 'Jerry Hanson', 'Edad': 1, 'direccion': '972 Catherine Pass\\nNorth Donald, MO 43378'}, {'nombre': 'Sarah Bender', 'Edad': 25, 'direccion': '6998 Laura Throughway\\nTammieview, IL 16502'}, {'nombre': 'James Gonzalez', 'Edad': 29, 'direccion': '0596 Hartman Bridge\\nDenisemouth, ME 29092'}, {'nombre': 'Rachel Long', 'Edad': 1, 'direccion': '67618 Angel Tunnel Suite 237\\nPort Duane, WY 06555'}, {'nombre': 'Debra Davis', 'Edad': 3, 'direccion': '128 Vanessa Square Suite 657\\nBoylechester, LA 17007'}, {'nombre': 'Michael Love', 'Edad': 13, 'direccion': 'USS Hill\\nFPO AP 14445'}, {'nombre': 'Mariah Munoz', 'Edad': 13, 'direccion': '99472 Angela Brooks Suite 792\\nSherrihaven, IN 66639'}, {'nombre': 'Billy Johnson', 'Edad': 24, 'direccion': 'Unit 7568 Box 0762\\nDPO AA 22757'}, {'nombre': 'John Walsh', 'Edad': 24, 'direccion': '87424 Kelly Green Suite 908\\nLarafurt, PR 55250'}, {'nombre': 'Teresa Garrison', 'Edad': 15, 'direccion': '3470 Steven Bypass\\nSouth Rachel, FL 97955'}, {'nombre': 'Christopher Byrd', 'Edad': 15, 'direccion': '1763 Sullivan Station Apt. 186\\nNorth Annettefort, DE 86073'}, {'nombre': 'Anthony Cook', 'Edad': 16, 'direccion': '9603 Lawrence Bypass\\nJosehaven, PR 56978'}, {'nombre': 'Sean Daniel', 'Edad': 29, 'direccion': '46686 Vaughn Meadows\\nWest Adam, OH 95095'}, {'nombre': 'Steven Fields', 'Edad': 19, 'direccion': '78730 Nicole Extensions\\nPerkinschester, MA 90946'}, {'nombre': 'Cody Werner', 'Edad': 30, 'direccion': '1077 Kevin Junction Suite 994\\nGonzalesview, MH 99057'}, {'nombre': 'Valerie Sullivan', 'Edad': 1, 'direccion': '2567 Ruth Dale\\nMoorefurt, MS 64357'}, {'nombre': 'Jason Bryant', 'Edad': 12, 'direccion': '23423 Carter Mews Apt. 126\\nSouth Ginaport, ID 65738'}, {'nombre': 'Brett Yang', 'Edad': 28, 'direccion': 'PSC 7350, Box 7720\\nAPO AA 71678'}, {'nombre': 'Cody Gonzalez', 'Edad': 6, 'direccion': '25218 Garza Estates\\nCollierside, NM 58597'}, {'nombre': 'John Yates', 'Edad': 9, 'direccion': '27133 Lambert Cove Suite 189\\nPort Melinda, OR 28544'}, {'nombre': 'Steven Jackson', 'Edad': 6, 'direccion': 'Unit 1581 Box 5028\\nDPO AE 74628'}, {'nombre': 'Sophia Little', 'Edad': 12, 'direccion': '6836 Bowman Summit Suite 667\\nDavisport, AK 84852'}, {'nombre': 'Kenneth Bell', 'Edad': 20, 'direccion': '471 Brittney Village Apt. 817\\nMartinezburgh, ID 97328'}, {'nombre': 'Felicia Morgan', 'Edad': 18, 'direccion': '93362 Johnson Throughway\\nNorth Jamesburgh, MO 87414'}, {'nombre': 'Jean Herrera', 'Edad': 18, 'direccion': '857 Rollins Mountain\\nMarystad, OH 98849'}, {'nombre': 'Joanne Mays', 'Edad': 4, 'direccion': '31639 Dickson Forge\\nPrattchester, MH 80641'}, {'nombre': 'Haley Smith', 'Edad': 28, 'direccion': 'USS Arroyo\\nFPO AA 21672'}, {'nombre': 'Michelle Schultz', 'Edad': 12, 'direccion': '73181 Timothy Glens Apt. 744\\nPort Raymond, IL 04680'}, {'nombre': 'Jordan Taylor', 'Edad': 20, 'direccion': '628 Jerry Creek\\nTiffanytown, AR 29637'}, {'nombre': 'Jason Frank', 'Edad': 11, 'direccion': '788 Kevin Islands Apt. 375\\nRichardsburgh, WV 30665'}, {'nombre': 'Laura Liu', 'Edad': 25, 'direccion': '732 Padilla Groves\\nWest Diana, PA 65620'}, {'nombre': 'Susan Rojas', 'Edad': 21, 'direccion': '2587 Tony Locks\\nNew Taraberg, NC 45377'}, {'nombre': 'Ashley Knight', 'Edad': 25, 'direccion': '3635 Victor Inlet Suite 929\\nLindseyfurt, AS 95019'}, {'nombre': 'Timothy Foster', 'Edad': 23, 'direccion': '06866 Stephanie Villages\\nNorth Veronica, AL 79194'}, {'nombre': 'Doris Harvey', 'Edad': 21, 'direccion': '0173 Monroe Dam Suite 327\\nWest Melissa, FM 92610'}, {'nombre': 'Michael Forbes', 'Edad': 17, 'direccion': '033 Luis Junctions\\nJimenezville, VA 43627'}, {'nombre': 'Lee Day', 'Edad': 4, 'direccion': 'Unit 3614 Box 3870\\nDPO AE 77834'}, {'nombre': 'John Wolfe', 'Edad': 3, 'direccion': '312 Ortiz Extensions\\nSouth Joseland, CT 24491'}, {'nombre': 'Leah Thompson', 'Edad': 26, 'direccion': '3479 Morales Vista Apt. 928\\nNew Matthew, DC 61141'}, {'nombre': 'Kenneth Smith', 'Edad': 2, 'direccion': '05054 Snyder Lakes\\nNew Danielle, LA 59838'}, {'nombre': 'Kimberly Young', 'Edad': 21, 'direccion': 'PSC 6980, Box 6843\\nAPO AA 59489'}, {'nombre': 'John Palmer', 'Edad': 19, 'direccion': '38165 Brandon Key Suite 848\\nTaratown, MO 72008'}, {'nombre': 'Elizabeth Sandoval', 'Edad': 25, 'direccion': '3884 Jennifer Mews\\nRossside, NE 89228'}]\n"
     ]
    }
   ],
   "source": [
    "\n",
    "def ReadExcelFile():\n",
    "    data = []\n",
    "    libro = ox.load_workbook(\"hola.xlsx\")\n",
    "    hoja = libro[\"datos bb\"]\n",
    "    for fila in hoja.iter_rows(min_row=2,values_only=True):\n",
    "        nombre, edad, direccion = fila\n",
    "        data.append({\"nombre\": nombre, \"Edad\": edad, \"direccion\": direccion})\n",
    "    libro.close()\n",
    "    print(data)\n",
    "        \n",
    "ReadExcelFile()"
   ]
  },
  {
   "cell_type": "markdown",
   "metadata": {},
   "source": [
    "# clase 2"
   ]
  }
 ],
 "metadata": {
  "kernelspec": {
   "display_name": "Python 3",
   "language": "python",
   "name": "python3"
  },
  "language_info": {
   "codemirror_mode": {
    "name": "ipython",
    "version": 3
   },
   "file_extension": ".py",
   "mimetype": "text/x-python",
   "name": "python",
   "nbconvert_exporter": "python",
   "pygments_lexer": "ipython3",
   "version": "3.7.2"
  },
  "orig_nbformat": 4
 },
 "nbformat": 4,
 "nbformat_minor": 2
}
