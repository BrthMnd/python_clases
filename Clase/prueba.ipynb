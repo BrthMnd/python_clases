{
 "cells": [
  {
   "cell_type": "markdown",
   "metadata": {},
   "source": [
    "# Excel Class Python\n",
    ">importamos las dependencias"
   ]
  },
  {
   "cell_type": "code",
   "execution_count": 1,
   "metadata": {},
   "outputs": [
    {
     "name": "stdout",
     "output_type": "stream",
     "text": [
      "Jillian Garza\n"
     ]
    }
   ],
   "source": [
    "import openpyxl as ox\n",
    "from faker import Faker\n",
    "import random as rd\n",
    "\n",
    "\n",
    "fake = Faker()\n",
    "print(fake.name())\n",
    "nombres = [\n",
    "    'BRANDON ALBERTO QUINTERO MENDOZA',\n",
    "    'BRAYAN ZAPATA SAMBONI',\n",
    "    'CRISTIAN JAVIER PARDO PARDO',\n",
    "    'DANIEL PEREZ BEDOYA',\n",
    "    'DEISY YULIETH CUESTA BLANDON',\n",
    "    'DUFAINER ANDRES ESQUIVEL BERTEL',\n",
    "    'EXEL AGUALIMPIA RAMIREZ',\n",
    "    'JENI JOHANA BEJARANO MENA',\n",
    "    'JHOAN FERNANDO ALVAREZ PARRA',\n",
    "    'JOBSERD JULIAN OCAMPO ZAPATA',\n",
    "    'JUAN ANDRES PINEDA BETANCUR',\n",
    "    'JUAN CAMILO ZULUAGA ARISTIZABAL',\n",
    "    'JUAN DAVID MARTINEZ CIRO',\n",
    "    'JUAN ESTEBAN MOSQUERA MENA',\n",
    "    'JULIANA PEREZ QUINTERO',\n",
    "    'MATEO HERNANDEZ PIEDRAHITA',\n",
    "    'SANTIAGO GOMEZ ZULETA',\n",
    "    'SANTIAGO SNEYDER HOYOS ARAQUE'\n",
    "]\n"
   ]
  },
  {
   "cell_type": "markdown",
   "metadata": {},
   "source": [
    "---"
   ]
  },
  {
   "cell_type": "code",
   "execution_count": 9,
   "metadata": {},
   "outputs": [],
   "source": [
    "def CreateExcelFile():\n",
    "    libro = ox.Workbook()\n",
    "    hoja = libro.active\n",
    "    hoja.title = \"datos bb\"\n",
    "    hoja.append([\"Nombre\", \"Edad\", \"Ciudad\"])\n",
    "    for persona in range(50):\n",
    "        hoja.append([fake.first_name(),rd.randint(1,30),fake.city()])\n",
    "    libro.save(\"hola.xlsx\")\n",
    "    return \n",
    "CreateExcelFile()"
   ]
  },
  {
   "cell_type": "code",
   "execution_count": 10,
   "metadata": {},
   "outputs": [
    {
     "name": "stdout",
     "output_type": "stream",
     "text": [
      "[{'nombre': 'Jesse', 'Edad': 1, 'Ciudad': 'Tarastad'}, {'nombre': 'Michelle', 'Edad': 2, 'Ciudad': 'South Isaiah'}, {'nombre': 'Peter', 'Edad': 7, 'Ciudad': 'Nicholasfurt'}, {'nombre': 'Bryce', 'Edad': 15, 'Ciudad': 'Beckybury'}, {'nombre': 'Brian', 'Edad': 18, 'Ciudad': 'East Elaine'}, {'nombre': 'Heather', 'Edad': 5, 'Ciudad': 'Tylerville'}, {'nombre': 'Jared', 'Edad': 4, 'Ciudad': 'South Angela'}, {'nombre': 'Ebony', 'Edad': 19, 'Ciudad': 'Watsonshire'}, {'nombre': 'Madison', 'Edad': 10, 'Ciudad': 'Lake Karina'}, {'nombre': 'Jerry', 'Edad': 3, 'Ciudad': 'Santosview'}, {'nombre': 'Corey', 'Edad': 14, 'Ciudad': 'Port Brittanyland'}, {'nombre': 'John', 'Edad': 13, 'Ciudad': 'Port Sarah'}, {'nombre': 'Margaret', 'Edad': 23, 'Ciudad': 'Langport'}, {'nombre': 'Rose', 'Edad': 8, 'Ciudad': 'North Ashleyburgh'}, {'nombre': 'Megan', 'Edad': 22, 'Ciudad': 'Port Frankfort'}, {'nombre': 'Michael', 'Edad': 18, 'Ciudad': 'East Amyshire'}, {'nombre': 'James', 'Edad': 28, 'Ciudad': 'East Paul'}, {'nombre': 'Keith', 'Edad': 6, 'Ciudad': 'Michelleville'}, {'nombre': 'Emma', 'Edad': 11, 'Ciudad': 'North Gabriel'}, {'nombre': 'Raymond', 'Edad': 3, 'Ciudad': 'Leeborough'}, {'nombre': 'Emily', 'Edad': 12, 'Ciudad': 'Phillipsberg'}, {'nombre': 'Jared', 'Edad': 23, 'Ciudad': 'Lake Peterport'}, {'nombre': 'Richard', 'Edad': 20, 'Ciudad': 'Port Amanda'}, {'nombre': 'Charles', 'Edad': 7, 'Ciudad': 'Hernandezborough'}, {'nombre': 'Joseph', 'Edad': 2, 'Ciudad': 'Andersonborough'}, {'nombre': 'Andrew', 'Edad': 24, 'Ciudad': 'Lake Sarastad'}, {'nombre': 'Jennifer', 'Edad': 25, 'Ciudad': 'Lake Stephenview'}, {'nombre': 'Tiffany', 'Edad': 13, 'Ciudad': 'Jenniferberg'}, {'nombre': 'Ethan', 'Edad': 6, 'Ciudad': 'Valerieview'}, {'nombre': 'Timothy', 'Edad': 8, 'Ciudad': 'Nicholasmouth'}, {'nombre': 'Donna', 'Edad': 17, 'Ciudad': 'Kennethview'}, {'nombre': 'Barry', 'Edad': 29, 'Ciudad': 'South Kevin'}, {'nombre': 'Pamela', 'Edad': 14, 'Ciudad': 'East Dianafort'}, {'nombre': 'Roberto', 'Edad': 10, 'Ciudad': 'Knoxview'}, {'nombre': 'Dylan', 'Edad': 15, 'Ciudad': 'Port Mackenzie'}, {'nombre': 'Scott', 'Edad': 23, 'Ciudad': 'Stephaniefurt'}, {'nombre': 'Margaret', 'Edad': 3, 'Ciudad': 'Lindseyton'}, {'nombre': 'Alexandria', 'Edad': 17, 'Ciudad': 'North Jameston'}, {'nombre': 'Christopher', 'Edad': 19, 'Ciudad': 'Lake Markside'}, {'nombre': 'Anthony', 'Edad': 11, 'Ciudad': 'Ryanstad'}, {'nombre': 'Brett', 'Edad': 14, 'Ciudad': 'East Ronaldshire'}, {'nombre': 'Patricia', 'Edad': 26, 'Ciudad': 'South Deniseville'}, {'nombre': 'Dawn', 'Edad': 13, 'Ciudad': 'New Clairechester'}, {'nombre': 'Melissa', 'Edad': 10, 'Ciudad': 'East Nicholasfort'}, {'nombre': 'Jessica', 'Edad': 5, 'Ciudad': 'Lake Brendaborough'}, {'nombre': 'John', 'Edad': 7, 'Ciudad': 'New Donald'}, {'nombre': 'Debra', 'Edad': 2, 'Ciudad': 'Nashmouth'}, {'nombre': 'Kevin', 'Edad': 19, 'Ciudad': 'South Lauren'}, {'nombre': 'Maria', 'Edad': 20, 'Ciudad': 'East Nicolebury'}, {'nombre': 'Alan', 'Edad': 12, 'Ciudad': 'West Paulbury'}]\n"
     ]
    }
   ],
   "source": [
    "\n",
    "def ReadExcelFile():\n",
    "    data = []\n",
    "    libro = ox.load_workbook(\"hola.xlsx\")\n",
    "    hoja = libro[\"datos bb\"]\n",
    "    for fila in hoja.iter_rows(min_row=2,values_only=True):\n",
    "        nombre, edad, ciudad = fila\n",
    "        data.append({\"nombre\": nombre, \"Edad\": edad, \"Ciudad\": ciudad})\n",
    "    libro.close()\n",
    "    print(data)\n",
    "        \n",
    "ReadExcelFile()\n"
   ]
  },
  {
   "cell_type": "markdown",
   "metadata": {},
   "source": [
    "# clase 2"
   ]
  }
 ],
 "metadata": {
  "kernelspec": {
   "display_name": "Python 3",
   "language": "python",
   "name": "python3"
  },
  "language_info": {
   "codemirror_mode": {
    "name": "ipython",
    "version": 3
   },
   "file_extension": ".py",
   "mimetype": "text/x-python",
   "name": "python",
   "nbconvert_exporter": "python",
   "pygments_lexer": "ipython3",
   "version": "3.7.2"
  },
  "orig_nbformat": 4
 },
 "nbformat": 4,
 "nbformat_minor": 2
}
