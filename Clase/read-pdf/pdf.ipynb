{
 "cells": [
  {
   "cell_type": "markdown",
   "metadata": {},
   "source": [
    "# Read PDF"
   ]
  },
  {
   "cell_type": "code",
   "execution_count": 3,
   "metadata": {},
   "outputs": [],
   "source": [
    "import PyPDF2\n",
    "import openpyxl\n",
    "#Crear un archivo de excel\n",
    "wb=openpyxl.Workbook()\n",
    "\n",
    "#Crear hoja de trabajo\n",
    "ws=wb.active\n",
    "\n",
    "#Escribir encabezados de columna\n",
    "ws['A1']='Documento'\n",
    "ws['B1']='Nombre'\n",
    "ws['C1']='Apellidos'\n",
    "ws['D1']='Área de residencia'\n",
    "ws['E1']='Tipo colegio'\n",
    "ws['F1']='Género'\n",
    "ws['G1']='Estrato'\n",
    "ws['H1']='Nota Matemáticas'\n",
    "ws['I1']='Nota Lecto Escritura'\n",
    "ws['J1']='Apoyo económico de padres'\n",
    "ws['K1']='Último grado cursado'\n",
    "\n",
    "#Abrir archivo de pdf\n",
    "with open('Datos.pdf','rb') as pdf_file:\n",
    "    #Crear un objeto de lector de pdf\n",
    "    pdf_reader= PyPDF2.PdfReader(pdf_file)\n",
    "\n",
    "    #Obtener el número de paginas\n",
    "    num_paginas=len(pdf_reader.pages)\n",
    "\n",
    "    #Iterar sobre las paginas del archivo\n",
    "    for pagina in range(num_paginas):\n",
    "        page=pdf_reader.pages[pagina]\n",
    "        text=page.extract_text()\n",
    "        matriz=text.split()\n",
    "        row=ws.max_row +1\n",
    "\n",
    "        for i in range(len(matriz)):\n",
    "            if \"Documento\" in matriz[i]:\n",
    "                documento=matriz[i +1]\n",
    "                ws.cell(row=row, column=1, value=documento)\n",
    "\n",
    "    wb.save('datos_pdf.xlsx')"
   ]
  }
 ],
 "metadata": {
  "kernelspec": {
   "display_name": "Python 3",
   "language": "python",
   "name": "python3"
  },
  "language_info": {
   "codemirror_mode": {
    "name": "ipython",
    "version": 3
   },
   "file_extension": ".py",
   "mimetype": "text/x-python",
   "name": "python",
   "nbconvert_exporter": "python",
   "pygments_lexer": "ipython3",
   "version": "3.11.4"
  },
  "orig_nbformat": 4
 },
 "nbformat": 4,
 "nbformat_minor": 2
}
