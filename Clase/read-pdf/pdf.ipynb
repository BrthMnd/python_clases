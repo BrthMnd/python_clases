{
 "cells": [
  {
   "cell_type": "markdown",
   "metadata": {},
   "source": [
    "# Read PDF"
   ]
  },
  {
   "cell_type": "code",
   "execution_count": 3,
   "metadata": {},
   "outputs": [],
   "source": [
    "import PyPDF2\n",
    "import openpyxl\n",
    "#Crear un archivo de excel\n",
    "wb=openpyxl.Workbook()\n",
    "\n",
    "#Crear hoja de trabajo\n",
    "ws=wb.active\n",
    "\n",
    "#Escribir encabezados de columna\n",
    "ws['A1']='Documento'\n",
    "ws['B1']='Nombre'\n",
    "ws['C1']='Apellidos'\n",
    "ws['D1']='Área de residencia'\n",
    "ws['E1']='Tipo colegio'\n",
    "ws['F1']='Género'\n",
    "ws['G1']='Estrato'\n",
    "ws['H1']='Nota Matemáticas'\n",
    "ws['I1']='Nota Lecto Escritura'\n",
    "ws['J1']='Apoyo económico de padres'\n",
    "ws['K1']='Último grado cursado'\n",
    "\n",
    "#Abrir archivo de pdf\n",
    "with open('Datos.pdf','rb') as pdf_file:\n",
    "    #Crear un objeto de lector de pdf\n",
    "    pdf_reader= PyPDF2.PdfReader(pdf_file)\n",
    "\n",
    "    #Obtener el número de paginas\n",
    "    num_paginas=len(pdf_reader.pages)\n",
    "\n",
    "    #Iterar sobre las paginas del archivo\n",
    "    for pagina in range(num_paginas):\n",
    "        page=pdf_reader.pages[pagina]\n",
    "        text=page.extract_text()\n",
    "        matriz=text.split()\n",
    "        row=ws.max_row +1\n",
    "\n",
    "        for i in range(len(matriz)):\n",
    "            if \"Documento\" in matriz[i]:\n",
    "                documento=matriz[i +1]\n",
    "                ws.cell(row=row, column=1, value=documento)\n",
    "\n",
    "    wb.save('datos_pdf.xlsx')"
   ]
  },
  {
   "cell_type": "code",
   "execution_count": 2,
   "metadata": {},
   "outputs": [
    {
     "ename": "DeprecationError",
     "evalue": "PdfFileReader is deprecated and was removed in PyPDF2 3.0.0. Use PdfReader instead.",
     "output_type": "error",
     "traceback": [
      "\u001b[1;31m---------------------------------------------------------------------------\u001b[0m",
      "\u001b[1;31mDeprecationError\u001b[0m                          Traceback (most recent call last)",
      "Cell \u001b[1;32mIn[2], line 8\u001b[0m\n\u001b[0;32m      6\u001b[0m \u001b[39m# Abrir el archivo PDF en modo de lectura binaria\u001b[39;00m\n\u001b[0;32m      7\u001b[0m \u001b[39mwith\u001b[39;00m \u001b[39mopen\u001b[39m(pdf_path, \u001b[39m'\u001b[39m\u001b[39mrb\u001b[39m\u001b[39m'\u001b[39m) \u001b[39mas\u001b[39;00m pdf_file:\n\u001b[1;32m----> 8\u001b[0m     pdf_reader \u001b[39m=\u001b[39m PyPDF2\u001b[39m.\u001b[39;49mPdfFileReader(pdf_file)\n\u001b[0;32m     10\u001b[0m     \u001b[39m# Leer el contenido de cada página y almacenarlo en una lista\u001b[39;00m\n\u001b[0;32m     11\u001b[0m     text_per_page \u001b[39m=\u001b[39m []\n",
      "File \u001b[1;32mc:\\Python311\\Lib\\site-packages\\PyPDF2\\_reader.py:1974\u001b[0m, in \u001b[0;36mPdfFileReader.__init__\u001b[1;34m(self, *args, **kwargs)\u001b[0m\n\u001b[0;32m   1973\u001b[0m \u001b[39mdef\u001b[39;00m \u001b[39m__init__\u001b[39m(\u001b[39mself\u001b[39m, \u001b[39m*\u001b[39margs: Any, \u001b[39m*\u001b[39m\u001b[39m*\u001b[39mkwargs: Any) \u001b[39m-\u001b[39m\u001b[39m>\u001b[39m \u001b[39mNone\u001b[39;00m:\n\u001b[1;32m-> 1974\u001b[0m     deprecation_with_replacement(\u001b[39m\"\u001b[39;49m\u001b[39mPdfFileReader\u001b[39;49m\u001b[39m\"\u001b[39;49m, \u001b[39m\"\u001b[39;49m\u001b[39mPdfReader\u001b[39;49m\u001b[39m\"\u001b[39;49m, \u001b[39m\"\u001b[39;49m\u001b[39m3.0.0\u001b[39;49m\u001b[39m\"\u001b[39;49m)\n\u001b[0;32m   1975\u001b[0m     \u001b[39mif\u001b[39;00m \u001b[39m\"\u001b[39m\u001b[39mstrict\u001b[39m\u001b[39m\"\u001b[39m \u001b[39mnot\u001b[39;00m \u001b[39min\u001b[39;00m kwargs \u001b[39mand\u001b[39;00m \u001b[39mlen\u001b[39m(args) \u001b[39m<\u001b[39m \u001b[39m2\u001b[39m:\n\u001b[0;32m   1976\u001b[0m         kwargs[\u001b[39m\"\u001b[39m\u001b[39mstrict\u001b[39m\u001b[39m\"\u001b[39m] \u001b[39m=\u001b[39m \u001b[39mTrue\u001b[39;00m  \u001b[39m# maintain the default\u001b[39;00m\n",
      "File \u001b[1;32mc:\\Python311\\Lib\\site-packages\\PyPDF2\\_utils.py:369\u001b[0m, in \u001b[0;36mdeprecation_with_replacement\u001b[1;34m(old_name, new_name, removed_in)\u001b[0m\n\u001b[0;32m    363\u001b[0m \u001b[39mdef\u001b[39;00m \u001b[39mdeprecation_with_replacement\u001b[39m(\n\u001b[0;32m    364\u001b[0m     old_name: \u001b[39mstr\u001b[39m, new_name: \u001b[39mstr\u001b[39m, removed_in: \u001b[39mstr\u001b[39m \u001b[39m=\u001b[39m \u001b[39m\"\u001b[39m\u001b[39m3.0.0\u001b[39m\u001b[39m\"\u001b[39m\n\u001b[0;32m    365\u001b[0m ) \u001b[39m-\u001b[39m\u001b[39m>\u001b[39m \u001b[39mNone\u001b[39;00m:\n\u001b[0;32m    366\u001b[0m \u001b[39m    \u001b[39m\u001b[39m\"\"\"\u001b[39;00m\n\u001b[0;32m    367\u001b[0m \u001b[39m    Raise an exception that a feature was already removed, but has a replacement.\u001b[39;00m\n\u001b[0;32m    368\u001b[0m \u001b[39m    \"\"\"\u001b[39;00m\n\u001b[1;32m--> 369\u001b[0m     deprecation(DEPR_MSG_HAPPENED\u001b[39m.\u001b[39;49mformat(old_name, removed_in, new_name))\n",
      "File \u001b[1;32mc:\\Python311\\Lib\\site-packages\\PyPDF2\\_utils.py:351\u001b[0m, in \u001b[0;36mdeprecation\u001b[1;34m(msg)\u001b[0m\n\u001b[0;32m    350\u001b[0m \u001b[39mdef\u001b[39;00m \u001b[39mdeprecation\u001b[39m(msg: \u001b[39mstr\u001b[39m) \u001b[39m-\u001b[39m\u001b[39m>\u001b[39m \u001b[39mNone\u001b[39;00m:\n\u001b[1;32m--> 351\u001b[0m     \u001b[39mraise\u001b[39;00m DeprecationError(msg)\n",
      "\u001b[1;31mDeprecationError\u001b[0m: PdfFileReader is deprecated and was removed in PyPDF2 3.0.0. Use PdfReader instead."
     ]
    }
   ],
   "source": [
    "import PyPDF2\n",
    "\n",
    "# Ruta al archivo PDF que deseas leer\n",
    "pdf_path = './Datos.pdf'\n",
    "\n",
    "# Abrir el archivo PDF en modo de lectura binaria\n",
    "with open(pdf_path, 'rb') as pdf_file:\n",
    "    pdf_reader = PyPDF2.\n",
    "    "
   ]
  }
 ],
 "metadata": {
  "kernelspec": {
   "display_name": "Python 3",
   "language": "python",
   "name": "python3"
  },
  "language_info": {
   "codemirror_mode": {
    "name": "ipython",
    "version": 3
   },
   "file_extension": ".py",
   "mimetype": "text/x-python",
   "name": "python",
   "nbconvert_exporter": "python",
   "pygments_lexer": "ipython3",
   "version": "3.11.4"
  },
  "orig_nbformat": 4
 },
 "nbformat": 4,
 "nbformat_minor": 2
}
