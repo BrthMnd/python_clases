{
 "cells": [
  {
   "cell_type": "markdown",
   "metadata": {},
   "source": [
    "# ESTADISTICA DESCRIPTIVA\n",
    "- Promedio o media\n",
    "- Mediana [1,4,5,7,9]\n",
    "-Moda -> valor que mas se repite\n",
    "- Varianza\n",
    "- desviacion estandar\n"
   ]
  }
 ],
 "metadata": {
  "language_info": {
   "name": "python"
  },
  "orig_nbformat": 4
 },
 "nbformat": 4,
 "nbformat_minor": 2
}
